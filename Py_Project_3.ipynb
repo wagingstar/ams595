{
  "cells": [
    {
      "cell_type": "markdown",
      "metadata": {
        "id": "xq__bChjD04e"
      },
      "source": [
        "# Python Assignment 3"
      ]
    },
    {
      "cell_type": "markdown",
      "metadata": {
        "id": "y7j2V0UDMYLG"
      },
      "source": [
        "⏱⏱⏱**Due: 11/02/2023 11:59 PM** ⏱⏱⏱\n",
        "\n",
        "Please submit your notebook files and upload them to your Git repository. Don't forget to include a link to your Git repository when submitting this file on Brightspace. **Please include all outputs in your notebook, including plots, printouts, etc..**\n",
        "\n",
        "Collaboration is permitted and encouraged; however, it's essential to independently produce and submit your own work. If you collaborate with others, please ensure that you provide their names in the designated section.\n",
        "\n",
        "Collaborators:_____"
      ]
    },
    {
      "cell_type": "markdown",
      "metadata": {
        "id": "SUS30Ew9D04n"
      },
      "source": [
        "##**For Questions 2a and 2b, you can choose one of them to complete, if you completed both, only Questions 2a will be graded.**\n",
        "\n",
        "**This assignment is out of 150 points; surplus points can be applied to other assignments (including Matlab and C/C++). However, it cannot be applied to your final project grade, and your assignment grade will not excced 75% of your total grade.**"
      ]
    },
    {
      "cell_type": "markdown",
      "metadata": {
        "id": "KR0Fl4yAQYad"
      },
      "source": [
        "## 1. Good presentation of your code and outputs; submitting your files to Github (10 pts)"
      ]
    },
    {
      "cell_type": "markdown",
      "metadata": {
        "id": "9WPZWhYQkptT"
      },
      "source": [
        "Ensure thorough and clear comments within your code to explain its functionality.\n",
        "\n",
        "Enhance your plots by adding titles, legends, and axis labels where appropriate to provide clarity.\n",
        "\n",
        "If necessary, employ LaTex notation to present mathematical explanations within the notebook.\n",
        "\n",
        "Divide your code into multiple blocks or cells in Jupyter Notebook and provide descriptive explanations for each block to improve readability.\n",
        "\n",
        "As part of your submission, **include the notebook files and upload them to your Git repository. Additionally, remember to provide a link to your Git repository when submitting the files on Brightspace.** Do not submit a compressed file (.rar, .zip, etc..), submit files separately.\n",
        "\n",
        "If you are tasked with implementing a numerical algorithm, it is expected that you would not rely on pre-existing methods. For example, if you were asked to solve $Ax=b$, you should write your own program to solve, not just by calling numpy.linalg.solve.\n",
        "\n"
      ]
    },
    {
      "cell_type": "markdown",
      "metadata": {
        "id": "U5SL2j0sqnAJ"
      },
      "source": [
        "## 2a. Numerical Integration (30 pts)"
      ]
    },
    {
      "cell_type": "markdown",
      "metadata": {
        "id": "OxwdE468rNAR"
      },
      "source": [
        "For a domain discretized into $N$ equally spaced panels:\n",
        "$$\n",
        "\\Delta x=\\frac{b-a}{N}.\n",
        "$$\n",
        "The approximation to the integral is\n",
        "$$\\begin{aligned}\n",
        "\\int_a^b f(x) d x & \\approx \\frac{\\Delta x}{2} \\sum_{k=1}^N\\left(f\\left(x_{k-1}\\right)+f\\left(x_k\\right)\\right) \\\\\n",
        "& =\\frac{\\Delta x}{2}\\left(f\\left(x_0\\right)+2 f\\left(x_1\\right)+2 f\\left(x_2\\right)+2 f\\left(x_3\\right)+\\cdots+2 f\\left(x_{N-1}\\right)+f\\left(x_N\\right)\\right) \\\\\n",
        "& =\\Delta x\\left(\\sum_{k=1}^{N-1} f\\left(x_k\\right)+\\frac{f\\left(x_N\\right)+f\\left(x_0\\right)}{2}\\right) .\n",
        "\\end{aligned}$$\n",
        "This is the trapezoid rule scheme.\n",
        "\n",
        "\n",
        "Given the function $f(x) = 3x^2 + 2x +2$, your tasks are:\n",
        "\n",
        "1. Carry out the integration symbolically using the SymPy library. Output the result (i.e. print out the result).\n",
        "2. Implement the trapezoid rule to estimate the integral $\\int_{-4}^6 f(x) dx$ using the following values of $N = 10, 20, 40, 80, 160, 320, 640, 1280$. Output the results (i.e. print out the results).\n",
        "3. Plot the absolute error (absolute difference between the numerical approximation and the SymPy result) against N.\n",
        "\n",
        "\n",
        "\n"
      ]
    },
    {
      "cell_type": "code",
      "execution_count": 1,
      "metadata": {},
      "outputs": [
        {
          "name": "stdout",
          "output_type": "stream",
          "text": [
            "Symbolic integral: 320\n",
            "N=10: 325.0\n",
            "N=20: 321.25\n",
            "N=40: 320.3125\n",
            "N=80: 320.078125\n",
            "N=160: 320.01953125\n",
            "N=320: 320.0048828125\n",
            "N=640: 320.001220703125\n",
            "N=1280: 320.00030517578125\n"
          ]
        },
        {
          "data": {
            "image/png": "[encoded data removed]",
            "text/plain": [
              "<Figure size 640x480 with 1 Axes>"
            ]
          },
          "metadata": {},
          "output_type": "display_data"
        }
      ],
      "source": [
        "import sympy as sp\n",
        "import numpy as np\n",
        "import matplotlib.pyplot as plt\n",
        "\n",
        "# Task 1\n",
        "x = sp.symbols('x')\n",
        "f = 3*x**2 + 2*x + 2\n",
        "integral_f = sp.integrate(f, (x, -4, 6))\n",
        "print(f\"Symbolic integral: {integral_f}\")\n",
        "\n",
        "# Task 2\n",
        "def trapezoid_rule(func, a, b, N):\n",
        "    h = (b-a)/N\n",
        "    return h * (0.5*func(a) + 0.5*func(b) + sum(func(a + i*h) for i in range(1, N)))\n",
        "\n",
        "N_values = [10, 20, 40, 80, 160, 320, 640, 1280]\n",
        "approximations = [trapezoid_rule(sp.lambdify(x, f), -4, 6, N) for N in N_values]\n",
        "for N, approx in zip(N_values, approximations):\n",
        "    print(f\"N={N}: {approx}\")\n",
        "\n",
        "# Task 3\n",
        "errors = [abs(approx - integral_f) for approx in approximations]\n",
        "plt.plot(N_values, errors)\n",
        "plt.xscale('log')\n",
        "plt.xlabel('N')\n",
        "plt.ylabel('Absolute Error')\n",
        "plt.show()"
      ]
    },
    {
      "cell_type": "markdown",
      "metadata": {
        "id": "uzMa1xSEwhe3"
      },
      "source": [
        "## 2b. Numerical Differentiation (30 pts)"
      ]
    },
    {
      "cell_type": "markdown",
      "metadata": {
        "id": "FoA2lb0VxDk4"
      },
      "source": [
        "Your tasks:\n",
        "1. Find the closed form expression of $f_{xy}(x,y)$, i.e. $\\frac{d^2}{dxdy}f(x,y)$, for $f(x,y) = \\left(sin^2\\left(x\\right)e^xcos(y)\\right)$ using `sympy`. Output the result.\n",
        "2. Find $f_{xy}(2,3)$ with `sympy` and take 15 significant digits, use it as the \"groud truth solution\". Output the result.\n",
        "3. Approximate $f_{xy}(2,3)$ using central difference approximation for the following values of $h = 0.1, 0.01, 0.001, 0.0001$. Output the results.\n",
        "4. Plot the absolute error (absolute difference between the numerical approximation and the SymPy result) against the step size $h$. `plt.gca().invert_xaxis() ` might help.\n",
        "\n",
        "Recall from the lecture:\n",
        "$$f_{x y}(x, y) \\approx \\frac{f(x+h, y+k)-f(x+h, y-k)-f(x-h, y+k)+f(x-h, y-k)}{4 h k}.$$\n",
        "For simplicity, we set $k = h$."
      ]
    },
    {
      "cell_type": "code",
      "execution_count": 8,
      "metadata": {},
      "outputs": [
        {
          "name": "stdout",
          "output_type": "stream",
          "text": [
            "Closed-form expression of f_xy:\n",
            "                      x              \n",
            "-(sin(x) + 2⋅cos(x))⋅ℯ ⋅sin(x)⋅sin(y)\n",
            "\n",
            "Ground truth solution of f_xy(2,3):\n",
            "-0.0730121966594062\n",
            "Approximation of fxy at point (2 ,3) with h=0.1 is : -0.0688582152443606\n",
            "Approximation of fxy at point (2 ,3) with h=0.01 is : -0.0729703465585096\n",
            "Approximation of fxy at point (2 ,3) with h=0.001 is : -0.0730117781788664\n",
            "Approximation of fxy at point (2 ,3) with h=0.0001 is : -0.0730121962888575\n"
          ]
        },
        {
          "data": {
            "image/png": "[encoded data removed]",
            "text/plain": [
              "<Figure size 1000x700 with 1 Axes>"
            ]
          },
          "metadata": {},
          "output_type": "display_data"
        }
      ],
      "source": [
        "import sympy as sp\n",
        "import numpy as np\n",
        "import matplotlib.pyplot as plt\n",
        "\n",
        "# Task 1: Find the closed form expression of f_xy(x,y)\n",
        "x, y = sp.symbols('x y')\n",
        "f = (sp.sin(x)**2 * sp.exp(x) * sp.cos(y))\n",
        "f_xy = sp.diff(f, x, y)\n",
        "print(\"Closed-form expression of f_xy:\")\n",
        "sp.pprint(f_xy)\n",
        "\n",
        "# Task 2: Find f_xy(2,3) with sympy and take 15 significant digits\n",
        "f_xy_value = f_xy.subs({x: 2, y: 3})\n",
        "ground_truth_solution = float(sp.N(f_xy_value, 15))\n",
        "print(\"\\nGround truth solution of f_xy(2,3):\")\n",
        "print(ground_truth_solution)\n",
        "\n",
        "# Task 3: Approximate f_xy(2,3) using central difference approximation for h values.\n",
        "def central_difference(func,x_val,y_val,h):\n",
        "    return (func.subs({x:x_val+h,y:y_val+h}) - func.subs({x:x_val+h,y:y_val-h}) -\n",
        "            func.subs({x:x_val-h,y:y_val+h}) + func.subs({x:x_val-h,y:y_val-h}))/(4*h**2)\n",
        "\n",
        "h_values = [0.1,0.01,0.001,0.0001]\n",
        "approximations=[]\n",
        "for h in h_values:\n",
        "    approx=central_difference(f,x_val=2,y_val=3,h=h)\n",
        "    approximations.append(approx)\n",
        "    print(f\"Approximation of fxy at point (2 ,3) with h={h} is : {approx}\")\n",
        "\n",
        "# Task 4: Plot the absolute error against the step size h.\n",
        "errors=[abs(approx-ground_truth_solution) for approx in approximations]\n",
        "plt.figure(figsize=(10 ,7))\n",
        "plt.plot(h_values , errors ,'o-')\n",
        "plt.xscale('log')\n",
        "plt.gca().invert_xaxis()\n",
        "plt.xlabel('Step Size (h)')\n",
        "plt.ylabel('Absolute Error')\n",
        "plt.title('Error in Central Difference Approximation of $f_{xy}(x)$ ')\n",
        "plt.grid(True)\n",
        "plt.show()\n"
      ]
    },
    {
      "cell_type": "markdown",
      "metadata": {
        "id": "aCgIDqeLBPjj"
      },
      "source": [
        "## 3. Pandas I (15 pts)"
      ]
    },
    {
      "cell_type": "markdown",
      "metadata": {
        "id": "O1w1avrtBYD5"
      },
      "source": [
        "1. Create a 3x4 (3 rows by 4 columns) pandas DataFrame with the columns named after the following Long Island towns: Hempstead, Babylon, Islip, and Brookhaven. The rows represent 'Population in 2099', 'Population in 2300', 'Population in 2400'. Fill each of the 12 cells in the DataFrame with a random integer from 1000 to 10000, inclusive. `np.random.randint()` might be helpful.\n",
        "For Example:\n",
        "\n",
        "```\n",
        "                    Hempstead  Babylon  Islip  Brookhaven\n",
        "Population in 2099       2931     8043   8414        8661\n",
        "Population in 2300       5444     9227   7393        8007\n",
        "Population in 2400       1660     7977   4730        2940\n",
        "```\n",
        "\n",
        "\n",
        "\n",
        "2. Output the following:\n",
        "  - The entire DataFrame.\n",
        "  - The value in the cell of row #1 (indexing starts with 0) under the Hempstead column.\n",
        "\n",
        "3. Add a new column named Riverhead. Populate this column with the sum of the respective row values from the Islip and Brookhaven columns. Output the entire DataFrame again."
      ]
    },
    {
      "cell_type": "code",
      "execution_count": 13,
      "metadata": {},
      "outputs": [
        {
          "name": "stdout",
          "output_type": "stream",
          "text": [
            "                    Hempstead  Babylon  Islip  Brookhaven\n",
            "Population in 2099       3732     8891   7744        3599\n",
            "Population in 2300       4264     5373   4468        3222\n",
            "Population in 2400       5859     6874   1705        8768\n",
            "Value in the cell of row #1 under the Hempstead column: 4264\n",
            "\n",
            "                     Hempstead  Babylon  Islip  Brookhaven  Riverhead\n",
            "Population in 2099       3732     8891   7744        3599      11343\n",
            "Population in 2300       4264     5373   4468        3222       7690\n",
            "Population in 2400       5859     6874   1705        8768      10473\n"
          ]
        }
      ],
      "source": [
        "import pandas as pd\n",
        "import numpy as np\n",
        "\n",
        "# Task 1: Create a DataFrame with random integers\n",
        "np.random.seed(0)  # For reproducibility of results\n",
        "data = {\n",
        "    'Hempstead': np.random.randint(1000, 10001, size=3),\n",
        "    'Babylon': np.random.randint(1000, 10001, size=3),\n",
        "    'Islip': np.random.randint(1000, 10001, size=3),\n",
        "    'Brookhaven': np.random.randint(1000, 10001, size=3)\n",
        "}\n",
        "df = pd.DataFrame(data)\n",
        "df.index = ['Population in 2099', 'Population in 2300', 'Population in 2400']\n",
        "\n",
        "# Task 2: Output the entire DataFrame and a specific cell value\n",
        "print(df)\n",
        "print(\"Value in the cell of row #1 under the Hempstead column:\", df.loc['Population in 2300', 'Hempstead'])\n",
        "\n",
        "# Task 3: Add a new column and output the entire DataFrame again\n",
        "df['Riverhead'] = df['Islip'] + df['Brookhaven']\n",
        "print(\"\\n\", df)\n"
      ]
    },
    {
      "cell_type": "markdown",
      "metadata": {
        "id": "WqHDjQC-KLjo"
      },
      "source": [
        "## 4. Pandas II (15 pts)"
      ]
    },
    {
      "cell_type": "markdown",
      "metadata": {
        "id": "w6kHh8BENzHk"
      },
      "source": [
        "0. Download the cvs file that comes with this assignment, and read it into a dataframe. You can also download this [csv file](https://media.githubusercontent.com/media/datablist/sample-csv-files/main/files/customers/customers-100.csv) with this link.\n",
        "1. Arrange the data in alphabetical order based on the last name. Display the first few rows.\n",
        "2. Count the number of customers whose subscription date is in 2021 (2021-01-01 to 2021-12-31). Report this number (e.g. print)."
      ]
    },
    {
      "cell_type": "code",
      "execution_count": 17,
      "metadata": {},
      "outputs": [
        {
          "name": "stdout",
          "output_type": "stream",
          "text": [
            "    Index      Customer Id First Name Last Name                Company  \\\n",
            "67     68  a014Ec1b9FccC1E        Tom  Alvarado    Donaldson-Dougherty   \n",
            "96     97  CeD220bdAaCfaDf       Lynn  Atkinson  Ware, Burns and Oneal   \n",
            "92     93  aAb6AFc7AfD0fF3     Collin     Ayers          Lamb-Peterson   \n",
            "0       1  DD37Cf93aecA6Dc     Sheryl    Baxter        Rasmussen Group   \n",
            "15     16  8cad0b4CBceaeec    Miranda   Beasley     Singleton and Sons   \n",
            "\n",
            "                City    Country             Phone 1                Phone 2  \\\n",
            "67  South Sophiaberg   Kiribati  (585)606-2980x2258      730-797-3594x5614   \n",
            "96      New Bradview  Sri Lanka     +1-846-706-2218           605.413.3198   \n",
            "92      South Lonnie   Anguilla    404-645-5351x012  001-257-582-8850x8516   \n",
            "0       East Leonard      Chile        229.077.5154       397.884.0519x718   \n",
            "15      Desireeshire       Oman    540.085.3135x185  +1-600-462-6432x21881   \n",
            "\n",
            "                            Email Subscription Date  \\\n",
            "67  nicholsonnina@montgomery.info        2020-08-18   \n",
            "96              vkemp@ferrell.com        2021-07-10   \n",
            "92       dudleyemily@gonzales.biz        2021-06-29   \n",
            "0        zunigavanessa@smith.info        2020-08-24   \n",
            "15        vduncan@parks-hardy.com        2022-04-12   \n",
            "\n",
            "                       Website  \n",
            "67     http://odom-massey.com/  \n",
            "96  https://novak-allison.com/  \n",
            "92        http://www.ruiz.com/  \n",
            "0   http://www.stephenson.com/  \n",
            "15          http://acosta.org/  \n",
            "Number of customers in 2021: 43\n"
          ]
        }
      ],
      "source": [
        "import pandas as pd\n",
        "\n",
        "# Task 0: Read the CSV file into a DataFrame\n",
        "df = pd.read_csv('/Users/boin/Desktop/23F/AMS595/Python3/customers-100.csv')\n",
        "\n",
        "# Task 1: Arrange data in alphabetical order based on the last name\n",
        "df = df.sort_values(by='Last Name')\n",
        "print(df.head())\n",
        "\n",
        "# Task 2: Count the number of customers whose subscription date is in 2021\n",
        "df['Subscription Date'] = pd.to_datetime(df['Subscription Date']) # Convert to datetime format if not already so\n",
        "customers_2021 = df[(df['Subscription Date'] >= '2021-01-01') & (df['Subscription Date'] <= '2021-12-31')]\n",
        "print(\"Number of customers in 2021:\", len(customers_2021))\n"
      ]
    },
    {
      "cell_type": "markdown",
      "metadata": {
        "id": "aBpXtK8VvApb"
      },
      "source": [
        "## 5. LU decomposition (50 + 30 pts)\n"
      ]
    },
    {
      "cell_type": "markdown",
      "metadata": {
        "id": "ryafNieevrgZ"
      },
      "source": [
        "Part A (50 points)\n",
        "1. Write a function `LUdecomposition()` that takes as input a matrix $A\\in \\mathbb{R}^{n \\times n}$. Perform Gaussian Elimination to have this function return two matrices $L$ and $U$ such that $A=LU$.\n",
        "2. Your function should raise any relevant errors, for example, raise an error if a pure LU decomposition does not exist for $A$ (meaning that you have to perform pivoting, i.e., permutation of rows).\n",
        "3. Create several random matrices for the purpose of testing your function. Obtain the $L$ and $U$ matrices, and for each random matrix obtain its L and U matrices and perform a matrix multiplication (`np.matmul()`) to determine whether the outcome closely resembles the original matrix $A$, allowing for slight differences attributable to precision errors.\n",
        "\n",
        "\n",
        "Note: LU decomposition with Gaussian elimination should be covered in your undergraduate linear algebra class. It is also covered in AMS 510. If you do not know how, this 10 minute [video](https://www.youtube.com/watch?v=UlWcofkUDDU&ab_channel=Mathispower4u) explains it very well.\n",
        "\n",
        "Part B (30 bonus points)\n",
        "4. Not all square matrices have a pure LU decomposition. However, PLU decomposition always exists. Write another function `pivoting()` that takes as input a matrix $A$ and return the permutation/pivoting matrix $P$ such that $PA$ always has a pure LU decomposition.\n",
        "5. Find an example $A$ for which `LUdecomposition()` raises an error. Then, use `pivoting()` to find $P$, and find the pure LU decomposition of $PA$. Verify that indeed $PA = LU$ with matrix multiplication (`np.matmul()`).\n",
        "\n",
        "\n",
        "Hint: Please do not print out a giant matrix and visually examine the outcomes. Think of a way to verify your results and output a boolean value.\n"
      ]
    },
    {
      "cell_type": "markdown",
      "metadata": {
        "id": "QlP_giLsQRPM"
      },
      "source": [
        "Fact: LU and PLU decompositions are not unique."
      ]
    },
    {
      "cell_type": "code",
      "execution_count": 70,
      "metadata": {},
      "outputs": [
        {
          "name": "stdout",
          "output_type": "stream",
          "text": [
            "Test 1: True\n",
            "Test 2: True\n",
            "Test 3: True\n",
            "Test 4: True\n",
            "Test 5: True\n"
          ]
        }
      ],
      "source": [
        "import numpy as np\n",
        "\n",
        "def LUdecomposition(A):\n",
        "    n = A.shape[0]\n",
        "    L = np.eye(n)  # Initialize L as identity matrix\n",
        "    U = A.copy()  # Initialize U as A\n",
        "\n",
        "    for i in range(n):\n",
        "        factor = U[i+1:, i] / U[i, i]\n",
        "        L[i+1:, i] = factor\n",
        "        U[i+1:] -= factor[:, np.newaxis] * U[i]\n",
        "        \n",
        "    return L, U\n",
        "\n",
        "# Testing with random matrices\n",
        "np.random.seed(6)\n",
        "for i in range(5): \n",
        "    A_original = np.random.rand(4,4)\n",
        "    try:\n",
        "        L, U = LUdecomposition(A_original)\n",
        "        print(f\"Test {i+1}: {np.allclose(np.matmul(L, U), A_original)}\") \n",
        "    except Exception as e:\n",
        "        print(f\"Test {i+1}: False\")"
      ]
    },
    {
      "cell_type": "code",
      "execution_count": 72,
      "metadata": {},
      "outputs": [
        {
          "name": "stdout",
          "output_type": "stream",
          "text": [
            "LU decomposition of A: False\n",
            "LU decomposition of PA: True\n"
          ]
        },
        {
          "name": "stderr",
          "output_type": "stream",
          "text": [
            "/var/folders/0g/wkcfg69901g4pkmdrv_9hd9r0000gn/T/ipykernel_38407/3737214709.py:9: RuntimeWarning: divide by zero encountered in divide\n",
            "  factor = U[i+1:, i] / U[i, i]\n",
            "/var/folders/0g/wkcfg69901g4pkmdrv_9hd9r0000gn/T/ipykernel_38407/3737214709.py:11: RuntimeWarning: invalid value encountered in multiply\n",
            "  U[i+1:] -= factor[:, np.newaxis] * U[i]\n",
            "/var/folders/0g/wkcfg69901g4pkmdrv_9hd9r0000gn/T/ipykernel_38407/788612387.py:17: RuntimeWarning: invalid value encountered in matmul\n",
            "  print(f\"LU decomposition of A: {np.allclose(np.matmul(L, U), A)}\")\n"
          ]
        }
      ],
      "source": [
        "# Part (B)\n",
        "def pivoting(A):\n",
        "    n = A.shape[0]\n",
        "    P = np.eye(n, dtype=np.double)\n",
        "    U = A.copy()\n",
        "\n",
        "    for i in range(n):\n",
        "        max_row = i + np.argmax(np.abs(U[i:, i]))\n",
        "        P[[i, max_row]] = P[[max_row, i]]\n",
        "        U[[i, max_row]] = U[[max_row, i]]\n",
        "\n",
        "    return P\n",
        "\n",
        "A = np.array([[0, 0, 0], [2, 4, 5], [1, 3, 4]], dtype=float)\n",
        "try:\n",
        "    L, U = LUdecomposition(A)\n",
        "    print(f\"LU decomposition of A: {np.allclose(np.matmul(L, U), A)}\") \n",
        "except Exception as e:\n",
        "    print(\"LU decomposition of A: False\")\n",
        "P = pivoting(A)\n",
        "PA = np.matmul(P, A)\n",
        "L, U = LUdecomposition(PA)\n",
        "print(f\"LU decomposition of PA: {np.allclose(np.matmul(L, U), PA)}\")"
      ]
    },
    {
      "cell_type": "markdown",
      "metadata": {
        "id": "X_4ITuoU53KF"
      },
      "source": [
        "## 6. Markov Chain (30 pts)"
      ]
    },
    {
      "cell_type": "markdown",
      "metadata": {
        "id": "X2-wBoxIWLQs"
      },
      "source": [
        "**BACKGROUND:** Consider a Markov chain transition matrix $P$ on a set of $n$ states, where $P_{i j}$ corresponds to the probability $\\left(0 \\leq P_{i j} \\leq 1\\right)$ to go from state $i$ to the state $j$, and each row is normalized so that\n",
        "$$\n",
        "\\sum_{j=1}^n P_{i j}=1 .\n",
        "$$\n",
        "\n",
        "Let $p$ be a size- $n$ vector composed of the probability distribution over the $n$ states, where\n",
        "$$\n",
        "\\sum_{j=1}^n p_j=1 .\n",
        "$$\n",
        "\n",
        "The transition rule corresponding to the transition matrix $P$ is $\\hat{p}=P^T p$, where $\\hat{p}$ corresponds to a new probability distribution and\n",
        "$$\n",
        "\\sum_{j=1}^n \\hat{p}_j=1 .\n",
        "$$\n",
        "TASK: Write a program that works with 5 states `only use the numpy library`. In particular,\n",
        "0. Fix the random seed to be the last digit of your id: `numpy.random.seed()`.\n",
        "\n",
        "1. Construct a random $5 \\times 5$ matrix $P$, and normalize each row so that\n",
        "$$\n",
        "\\sum_{j=1}^5 P_{i j}=1 .\n",
        "$$\n",
        "\n",
        "2. Construct a random size-5 vector $p$ and normalize it so that\n",
        "$$\n",
        "\\sum_{j=1}^5 p_j=1 .\n",
        "$$\n",
        "Apply the transition rule 50 times to obtain $p_{50}$.\n",
        "3. Compute the eigenvector $v$ of $P^T$ corresponding to the eigenvalue 1 (and numerically, the eigenvalue closest to $1)$, and then scale the eigenvector so that\n",
        "$$\n",
        "\\sum_{j=1}^5 v_j=1 .\n",
        "$$\n",
        "This scaled eigenvector is known as the stationary distribution.\n",
        "\n",
        "4. Compute the component wise difference between $p_{50}$ and the stationary distribution. Do they match with each other within $1 \\mathrm{e}-5$ ?\n",
        "\n",
        "HINTS: You may find the following functions useful in your implementation:\n",
        "- np.random.rand\n",
        "- np.dot\n",
        "- np.linalg.eig"
      ]
    },
    {
      "cell_type": "code",
      "execution_count": 71,
      "metadata": {},
      "outputs": [
        {
          "name": "stdout",
          "output_type": "stream",
          "text": [
            "True\n"
          ]
        }
      ],
      "source": [
        "import numpy as np\n",
        "\n",
        "np.random.seed(6) \n",
        "\n",
        "# Task 1. Create and normalize P\n",
        "P = np.random.rand(5,5)\n",
        "P /= np.sum(P, axis=1, keepdims=True)  # Ensure the sum of each row is 1\n",
        "\n",
        "# Task 2. Create and normalize p, and apply the transition rule 50 times\n",
        "p = np.random.rand(5)\n",
        "p /= np.linalg.norm(p, 2)\n",
        "for _ in range(50):\n",
        "    p = np.dot(P.T, p)\n",
        "    p /= np.linalg.norm(p, 2)\n",
        "\n",
        "# Task 3. Compute the stationary distribution\n",
        "eigenvalues, eigenvectors = np.linalg.eig(P.T)\n",
        "v = eigenvectors[:, np.isclose(eigenvalues, 1)] # select the eigenvector corresponding to the eigenvalue 1\n",
        "v = v[:,0]  # select the first column if there are multiple eigenvectors\n",
        "v /= np.linalg.norm(v, 2)  # normalize v\n",
        "\n",
        "# Task 4. Compare p_50 and v\n",
        "diff = np.abs(p - v)\n",
        "print(np.all(diff < 1e-5))\n"
      ]
    }
  ],
  "metadata": {
    "accelerator": "GPU",
    "anaconda-cloud": {},
    "colab": {
      "collapsed_sections": [
        "KR0Fl4yAQYad",
        "U5SL2j0sqnAJ",
        "29VDnBBE5pUV",
        "uzMa1xSEwhe3",
        "YCD9beX75Yp7",
        "aCgIDqeLBPjj",
        "WqHDjQC-KLjo",
        "wzeYQOW0OCH3",
        "X_4ITuoU53KF",
        "yoMb8G9jXWcu"
      ],
      "gpuType": "T4",
      "provenance": []
    },
    "kernelspec": {
      "display_name": "Python 3",
      "name": "python3"
    },
    "language_info": {
      "codemirror_mode": {
        "name": "ipython",
        "version": 3
      },
      "file_extension": ".py",
      "mimetype": "text/x-python",
      "name": "python",
      "nbconvert_exporter": "python",
      "pygments_lexer": "ipython3",
      "version": "3.12.0"
    }
  },
  "nbformat": 4,
  "nbformat_minor": 0
}
